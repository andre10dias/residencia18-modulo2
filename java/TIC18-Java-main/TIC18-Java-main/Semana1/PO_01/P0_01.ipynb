{
 "cells": [
  {
   "cell_type": "markdown",
   "metadata": {},
   "source": [
    "### INSTRUÇÃO PRÁTICA - PO-01 (JAVA) - LEANDRO GARCIA"
   ]
  },
  {
   "cell_type": "markdown",
   "metadata": {},
   "source": [
    "##### Exercício 1: O que é uma classe em Java e qual é a diferença entre uma classe e um objeto? Dê 5 exemplos mostrando-os em C++ e em Java"
   ]
  },
  {
   "cell_type": "markdown",
   "metadata": {},
   "source": [
    "Resposta: Uma classe em Java, assim como em outras linguagens de programação orientada a objetos, é um bloco de construção que serve como modelo para criar objetos. nas classes são definidos quais os atributos (propriedades) um objeto deve possuir e métodos para manipular tais atributos. Em outras palavras é uma representação abstrata de objetos do mundo real. Algo que não se pode tocar, mais que os objetos derivados delas podem.\n",
    "\n",
    "A diferença de Classe e Objeto é que a classe é o que vai definir um tipo de objeto, especificando suas características e os métodos que serão compartilhados por todos os objetos dessa classe. Por sua vez, o objeto é algo que deriva da classe, ele representa uma entidade do mundo real que diferente da classe, pode-se tocar e pode ser manipulado através de métodos definidos em sua classe de origem.\n",
    "\n",
    "Demonstrarei alguns exemplos iguais, mas em C++ e em Java, para demonstrar suas diferenças:"
   ]
  },
  {
   "cell_type": "markdown",
   "metadata": {},
   "source": [
    "###### Exemplo - 1 (Carro) em C++:"
   ]
  },
  {
   "cell_type": "code",
   "execution_count": null,
   "metadata": {
    "vscode": {
     "languageId": "cpp"
    }
   },
   "outputs": [],
   "source": [
    "#include <iostream>\n",
    "using namespace std;\n",
    "\n",
    "class Carro { // Nome da classe.\n",
    "public:\n",
    "    string modelo; // Atributos\n",
    "    int ano;\n",
    "\n",
    "    void exibirInformacoes() { // Método\n",
    "        cout << \"Modelo: \" << modelo << \", Ano: \" << ano << endl;\n",
    "    }\n",
    "};\n",
    "\n",
    "int main() {\n",
    "    Carro meuCarro; // Criação de uma objeto da classe.\n",
    "    meuCarro.modelo = \"Fusca\";\n",
    "    meuCarro.ano = 2000;\n",
    "\n",
    "    meuCarro.exibirInformacoes();\n",
    "\n",
    "    return 0;\n",
    "}\n"
   ]
  },
  {
   "cell_type": "markdown",
   "metadata": {},
   "source": [
    "###### Exemplo - 1 (Carro) em Java:"
   ]
  },
  {
   "cell_type": "code",
   "execution_count": null,
   "metadata": {
    "vscode": {
     "languageId": "java"
    }
   },
   "outputs": [],
   "source": [
    "public class Carro { // Nome da classe.\n",
    "    String modelo; // Atributos\n",
    "    int ano;\n",
    "\n",
    "    void exibirInformacoes() { // Método\n",
    "        System.out.println(\"Modelo: \" + modelo + \", Ano: \" + ano);\n",
    "    }\n",
    "\n",
    "    public static void main(String[] args) {\n",
    "        Carro meuCarro = new Carro(); // Criação de uma objeto da classe.\n",
    "        meuCarro.modelo = \"Fusca\";\n",
    "        meuCarro.ano = 2000;\n",
    "\n",
    "        meuCarro.exibirInformacoes();\n",
    "    }\n",
    "}\n"
   ]
  },
  {
   "cell_type": "markdown",
   "metadata": {},
   "source": [
    "###### Exemplo - 2 (Ponto) em C++:"
   ]
  },
  {
   "cell_type": "code",
   "execution_count": null,
   "metadata": {},
   "outputs": [],
   "source": [
    "#include <iostream>\n",
    "using namespace std;\n",
    "\n",
    "class Ponto { // Nome da classe.\n",
    "public:\n",
    "    int x, y; // Atributos\n",
    "\n",
    "    void exibirCoordenadas() { // Método\n",
    "        cout << \"Coordenadas: (\" << x << \", \" << y << \")\" << endl;\n",
    "    }\n",
    "};\n",
    "\n",
    "int main() {\n",
    "    Ponto ponto1; // Criação de uma objeto da classe.\n",
    "    ponto1.x = 10;\n",
    "    ponto1.y = 5;\n",
    "\n",
    "    ponto1.exibirCoordenadas();\n",
    "\n",
    "    return 0;\n",
    "}\n"
   ]
  },
  {
   "cell_type": "markdown",
   "metadata": {},
   "source": [
    "###### Exemplo - 2 (Ponto) em Java:"
   ]
  },
  {
   "cell_type": "code",
   "execution_count": null,
   "metadata": {
    "vscode": {
     "languageId": "java"
    }
   },
   "outputs": [],
   "source": [
    "public class Ponto { // Nome da classe.\n",
    "    int x, y; // Atributos\n",
    "\n",
    "    void exibirCoordenadas() { // Método\n",
    "        System.out.println(\"Coordenadas: (\" + x + \", \" + y + \")\");\n",
    "    }\n",
    "\n",
    "    public static void main(String[] args) {\n",
    "        Ponto ponto1 = new Ponto(); // Criação de uma objeto da classe.\n",
    "        ponto1.x = 10;\n",
    "        ponto1.y = 5;\n",
    "\n",
    "        ponto1.exibirCoordenadas();\n",
    "    }\n",
    "}\n"
   ]
  },
  {
   "cell_type": "markdown",
   "metadata": {},
   "source": [
    "###### Exemplo - 3 (Livro) em C++:"
   ]
  },
  {
   "cell_type": "code",
   "execution_count": null,
   "metadata": {},
   "outputs": [],
   "source": [
    "#include <iostream>\n",
    "using namespace std;\n",
    "\n",
    "class Livro { // Nome da classe.\n",
    "public:\n",
    "    string titulo; // Atributos\n",
    "    string autor;\n",
    "    int anoPublicacao;\n",
    "\n",
    "    void exibirDetalhes() { // Método\n",
    "        cout << \"Título: \" << titulo << \", Autor: \" << autor << \", Ano de Publicação: \" << anoPublicacao << endl;\n",
    "    }\n",
    "};\n",
    "\n",
    "int main() {\n",
    "    Livro meuLivro; // Criação de uma objeto da classe.\n",
    "    meuLivro.titulo = \"Aventuras de Sherlock Holmes\";\n",
    "    meuLivro.autor = \"Arthur Conan Doyle\";\n",
    "    meuLivro.anoPublicacao = 1892;\n",
    "\n",
    "    meuLivro.exibirDetalhes();\n",
    "\n",
    "    return 0;\n",
    "}\n"
   ]
  },
  {
   "cell_type": "markdown",
   "metadata": {},
   "source": [
    "###### Exemplo - 3 (Livro) em Java:"
   ]
  },
  {
   "cell_type": "code",
   "execution_count": null,
   "metadata": {
    "vscode": {
     "languageId": "java"
    }
   },
   "outputs": [],
   "source": [
    "public class Livro { // Nome da classe.\n",
    "    String titulo; // Atributos\n",
    "    String autor;\n",
    "    int anoPublicacao;\n",
    " \n",
    "    void exibirDetalhes() { // Método\n",
    "        System.out.println(\"Título: \" + titulo + \", Autor: \" + autor + \", Ano de Publicação: \" + anoPublicacao);\n",
    "    }\n",
    "\n",
    "    public static void main(String[] args) {\n",
    "        Livro meuLivro = new Livro(); // Criação de uma objeto da classe.\n",
    "        meuLivro.titulo = \"Aventuras de Sherlock Holmes\";\n",
    "        meuLivro.autor = \"Arthur Conan Doyle\";\n",
    "        meuLivro.anoPublicacao = 1892;\n",
    "\n",
    "        meuLivro.exibirDetalhes();\n",
    "    }\n",
    "}\n"
   ]
  },
  {
   "cell_type": "markdown",
   "metadata": {},
   "source": [
    "###### Exemplo - 4 (Retângulo) em C++:"
   ]
  },
  {
   "cell_type": "code",
   "execution_count": null,
   "metadata": {},
   "outputs": [],
   "source": [
    "#include <iostream>\n",
    "using namespace std;\n",
    "\n",
    "class Retangulo { // Nome da classe.\n",
    "public:\n",
    "    float comprimento; // Atributos\n",
    "    float largura;\n",
    "\n",
    "    float calcularArea() { // Método\n",
    "        return comprimento * largura;\n",
    "    }\n",
    "};\n",
    "\n",
    "int main() {\n",
    "    Retangulo meuRetangulo; // Criação de uma objeto da classe.\n",
    "    meuRetangulo.comprimento = 5.0;\n",
    "    meuRetangulo.largura = 3.0;\n",
    "\n",
    "    cout << \"Área do Retângulo: \" << meuRetangulo.calcularArea() << endl;\n",
    "\n",
    "    return 0;\n",
    "}\n"
   ]
  },
  {
   "cell_type": "markdown",
   "metadata": {},
   "source": [
    "###### Exemplo - 4 (Retângulo) em Java:"
   ]
  },
  {
   "cell_type": "code",
   "execution_count": null,
   "metadata": {
    "vscode": {
     "languageId": "java"
    }
   },
   "outputs": [],
   "source": [
    "public class Retangulo { // Nome da classe.\n",
    "    float comprimento; // Atributos\n",
    "    float largura;\n",
    "\n",
    "    float calcularArea() { // Método\n",
    "        return comprimento * largura;\n",
    "    }\n",
    "\n",
    "    public static void main(String[] args) {\n",
    "        Retangulo meuRetangulo = new Retangulo(); // Criação de uma objeto da classe.\n",
    "        meuRetangulo.comprimento = 5.0f;\n",
    "        meuRetangulo.largura = 3.0f;\n",
    "\n",
    "        System.out.println(\"Área do Retângulo: \" + meuRetangulo.calcularArea());\n",
    "    }\n",
    "}\n"
   ]
  },
  {
   "cell_type": "markdown",
   "metadata": {},
   "source": [
    "###### Exemplo - 5 (Estudante) em C++:"
   ]
  },
  {
   "cell_type": "code",
   "execution_count": null,
   "metadata": {},
   "outputs": [],
   "source": [
    "#include <iostream>\n",
    "using namespace std;\n",
    "\n",
    "class Estudante { // Nome da classe.\n",
    "public:\n",
    "    string nome; // Atributos\n",
    "    int idade;\n",
    "    string curso;\n",
    "\n",
    "    void exibirInformacoes() { // Método\n",
    "        cout << \"Nome: \" << nome << \", Idade: \" << idade << \", Curso: \" << curso << endl;\n",
    "    }\n",
    "};\n",
    "\n",
    "int main() {\n",
    "    Estudante aluno; // Criação de uma objeto da classe.\n",
    "    aluno.nome = \"João\";\n",
    "    aluno.idade = 20;\n",
    "    aluno.curso = \"Engenharia\";\n",
    "\n",
    "    aluno.exibirInformacoes();\n",
    "\n",
    "    return 0;\n",
    "}\n"
   ]
  },
  {
   "cell_type": "markdown",
   "metadata": {},
   "source": [
    "###### Exemplo - 5 (Estudante) em Java:"
   ]
  },
  {
   "cell_type": "code",
   "execution_count": null,
   "metadata": {
    "vscode": {
     "languageId": "java"
    }
   },
   "outputs": [],
   "source": [
    "public class Estudante { // Nome da classe.\n",
    "    String nome; // Atributos\n",
    "    int idade;\n",
    "    String curso;\n",
    "\n",
    "    void exibirInformacoes() {  // Método\n",
    "        System.out.println(\"Nome: \" + nome + \", Idade: \" + idade + \", Curso: \" + curso);\n",
    "    }\n",
    "\n",
    "    public static void main(String[] args) {\n",
    "        Estudante aluno = new Estudante(); // Criação de uma objeto da classe.\n",
    "        aluno.nome = \"João\";\n",
    "        aluno.idade = 20;\n",
    "        aluno.curso = \"Engenharia\";\n",
    "\n",
    "        aluno.exibirInformacoes();\n",
    "    }\n",
    "}\n"
   ]
  },
  {
   "cell_type": "markdown",
   "metadata": {},
   "source": [
    "##### Exercício 2: Como você declara uma variável em Java e quais são os tipos de dados primitivos mais comuns? Faça um paralelo entre isso e a mesma coisa na linguagem C++:"
   ]
  },
  {
   "cell_type": "markdown",
   "metadata": {},
   "source": [
    "Resposta: Assim como em C++. em Java você declara uma variável especificando o tipo de dado seguido pelo nome da variável. A diferença é que em C++ pode usar a palavra-chave 'auto' para deduzir automaticamente o tipo de dados com base no valor atribuído. Aqui está um exemplo simples:\n",
    "\n",
    "int idade;\n",
    "\n",
    "Java possui oito tipos de dados primitivos, divididos em quatro categorias principais:\n",
    "\n",
    "1 (Números Inteiros):\n",
    "\n",
    "    byte (8 bits)\n",
    "    short (16 bits)\n",
    "    int (32 bits)\n",
    "    long (64 bits)\n",
    "\n",
    "2 (Números de Ponto Flutuante):\n",
    "\n",
    "    float (32 bits)\n",
    "    double (64 bits)\n",
    "\n",
    "3 (Caractere):\n",
    "\n",
    "    char (16 bits)\n",
    "\n",
    "4 (Booleano):\n",
    "\n",
    "    boolean (representa true ou false)\n",
    "\n",
    "Agora veremos a implementação de alguns tipos em Java:\n",
    "\n",
    "\n"
   ]
  },
  {
   "cell_type": "code",
   "execution_count": null,
   "metadata": {
    "vscode": {
     "languageId": "java"
    }
   },
   "outputs": [],
   "source": [
    "int idade = 25;\n",
    "double altura = 1.75;\n",
    "char genero = 'M';\n",
    "boolean estudante = true;\n",
    "float dolar = 4.50"
   ]
  },
  {
   "cell_type": "markdown",
   "metadata": {},
   "source": [
    "Em paralelo, vemos os tipos primitivos em C++, que possui tipos de dados primitivos semelhantes aos de Java, mas a linguagem oferece mais flexibilidade, incluindo a capacidade de criar tipos de dados personalizados.\n",
    "\n",
    "1 (Números Inteiros):\n",
    "\n",
    "    char (pode ser usado para representar caracteres ou números inteiros de 8 bits)\n",
    "    short (16 bits)\n",
    "    int (32 bits)\n",
    "    long (pode variar em tamanho, dependendo da implementação)\n",
    "    long long (pelo menos 64 bits)\n",
    "\n",
    "2 (Números de Ponto Flutuante):\n",
    "\n",
    "    float (32 bits)\n",
    "    double (64 bits)\n",
    "    long double (tamanho maior que double)\n",
    "\n",
    "3 (Caractere):\n",
    "\n",
    "    char (pode ser usado para representar caracteres ou números inteiros de 8 bits, dependendo da implementação)\n",
    "\n",
    "4 (Booleano):\n",
    "\n",
    "    bool (representa true ou false)\n",
    "\n",
    "Agora veremos a implementação de alguns tipos em C++:"
   ]
  },
  {
   "cell_type": "code",
   "execution_count": null,
   "metadata": {},
   "outputs": [],
   "source": [
    "int idade = 25;\n",
    "double altura = 1.75;\n",
    "char genero = 'M';\n",
    "bool estudante = true;\n",
    "long double numeroGrande = 13.2345635634456734647467647 "
   ]
  },
  {
   "cell_type": "markdown",
   "metadata": {},
   "source": [
    "##### Exercício 3: Explique o conceito de herança em Java e como você pode criar uma subclasse a partir de uma classe existente. Faça um paralelo com C++, apresentando 5 exemplos:"
   ]
  },
  {
   "cell_type": "markdown",
   "metadata": {},
   "source": [
    "Resposta: A herança é um conceito fundamental em programação orientada a objetos que permite que uma classe herde atributos e comportamentos de outra classe. Em Java, você pode criar uma subclasse (ou classe derivada) a partir de uma classe existente (ou classe base) usando a palavra-chave \"extends\". As subclasses (ou classes derivadas) podem ser declaradas como public, sem Palavra-chave (Package-Private) no caso de Java, private, ou protected.\n",
    "\n",
    "Sintaxe:"
   ]
  },
  {
   "cell_type": "code",
   "execution_count": null,
   "metadata": {
    "vscode": {
     "languageId": "java"
    }
   },
   "outputs": [],
   "source": [
    "class ClasseBase {\n",
    "    // Atributos e métodos da classe base\n",
    "}\n",
    "\n",
    "class Subclasse extends ClasseBase {\n",
    "    // Atributos e métodos adicionais ou sobrepostos\n",
    "}"
   ]
  },
  {
   "cell_type": "markdown",
   "metadata": {},
   "source": [
    "A subclasse herda automaticamente os membros (atributos e métodos) da classe base, e você pode adicionar membros adicionais ou sobrepor os membros existentes, se necessário. Um exemplo prático disso:"
   ]
  },
  {
   "cell_type": "code",
   "execution_count": null,
   "metadata": {
    "vscode": {
     "languageId": "java"
    }
   },
   "outputs": [],
   "source": [
    "class Animal {\n",
    "    void emitirSom() {\n",
    "        System.out.println(\"Som genérico de animal\");\n",
    "    }\n",
    "}\n",
    "\n",
    "class Gato extends Animal {\n",
    "    void emitirSom() {\n",
    "        System.out.println(\"Miau\");\n",
    "    }\n",
    "\n",
    "    void pular() {\n",
    "        System.out.println(\"O gato está pulando\");\n",
    "    }\n",
    "}\n",
    "\n",
    "public class TesteHeranca {\n",
    "    public static void main(String[] args) {\n",
    "        Gato meuGato = new Gato();\n",
    "        meuGato.emitirSom(); // Chama o método sobrescrito da subclasse\n",
    "        meuGato.pular();     // Método adicional da subclasse\n",
    "    }\n",
    "}\n"
   ]
  },
  {
   "cell_type": "markdown",
   "metadata": {},
   "source": [
    "Em C++, o conceito de herança é semelhante. Você pode criar uma classe derivada usando a palavra-chave 'class' seguida por um (:) e a palavra-chave 'public'.\n",
    "\n",
    "Sintaxe:"
   ]
  },
  {
   "cell_type": "code",
   "execution_count": null,
   "metadata": {},
   "outputs": [],
   "source": [
    "class ClasseBase {\n",
    "    // Atributos e métodos da classe base\n",
    "};\n",
    "\n",
    "class Subclasse : public ClasseBase {\n",
    "    // Atributos e métodos adicionais ou sobrepostos\n",
    "};\n"
   ]
  },
  {
   "cell_type": "markdown",
   "metadata": {},
   "source": [
    "Em C++, a herança também pode ser pública (public), privada (private), ou protegida (protected). A palavra-chave public indica que os membros públicos da classe base permanecem públicos na classe derivada.\n",
    "\n",
    "Exemplo:"
   ]
  },
  {
   "cell_type": "code",
   "execution_count": null,
   "metadata": {},
   "outputs": [],
   "source": [
    "#include <iostream>\n",
    "using namespace std;\n",
    "\n",
    "class Animal {\n",
    "public:\n",
    "    void emitirSom() {\n",
    "        cout << \"Som genérico de animal\" << endl;\n",
    "    }\n",
    "};\n",
    "\n",
    "class Gato : public Animal {\n",
    "public:\n",
    "    void emitirSom() {\n",
    "        cout << \"Miau\" << endl;\n",
    "    }\n",
    "\n",
    "    void pular() {\n",
    "        cout << \"O gato está pulando\" << endl;\n",
    "    }\n",
    "};\n",
    "\n",
    "int main() {\n",
    "    Gato meuGato;\n",
    "    meuGato.emitirSom(); // Chama o método sobrescrito da subclasse\n",
    "    meuGato.pular();     // Método adicional da subclasse\n",
    "\n",
    "    return 0;\n",
    "}\n"
   ]
  },
  {
   "cell_type": "markdown",
   "metadata": {},
   "source": [
    "Um fator importante a se entender são as diferenças entre os tipos de subclasses em Java:\n",
    "\n",
    "1 - public (Pública):\n",
    "\n",
    "    - Membros (atributos e métodos) da classe base declarados como public são herdados como public na classe derivada.\n",
    "    - Os membros protected e package-private (sem palavra-chave) da classe base são herdados como protected na classe derivada.\n",
    "    - Membros private da classe base não são herdados.\n",
    "\n",
    "Exemplo:"
   ]
  },
  {
   "cell_type": "code",
   "execution_count": null,
   "metadata": {
    "vscode": {
     "languageId": "java"
    }
   },
   "outputs": [],
   "source": [
    "public class ClasseBase {\n",
    "    public int publicField;\n",
    "    protected int protectedField;\n",
    "    int packagePrivateField;\n",
    "    private int privateField;\n",
    "}\n",
    "\n",
    "public class Subclasse extends ClasseBase {\n",
    "    // Todos os campos são herdados, exceto privateField\n",
    "}\n"
   ]
  },
  {
   "cell_type": "code",
   "execution_count": null,
   "metadata": {
    "vscode": {
     "languageId": "java"
    }
   },
   "outputs": [],
   "source": [
    "// Classe com visibilidade public em Java\n",
    "public class ClasseJavaPublic {\n",
    "    public int publicField;\n",
    "\n",
    "    public void publicMethod() {\n",
    "        System.out.println(\"Método público em Java\");\n",
    "    }\n",
    "}\n"
   ]
  },
  {
   "cell_type": "markdown",
   "metadata": {},
   "source": [
    "2 - protected (Protegida):\n",
    "\n",
    "    - Membros public e protected da classe base são herdados como protected na classe derivada.\n",
    "    - Membros package-private e private da classe base não são herdados.\n",
    "\n",
    "Exemplo:"
   ]
  },
  {
   "cell_type": "code",
   "execution_count": null,
   "metadata": {
    "vscode": {
     "languageId": "java"
    }
   },
   "outputs": [],
   "source": [
    "public class ClasseBase {\n",
    "    public int publicField;\n",
    "    protected int protectedField;\n",
    "    int packagePrivateField;\n",
    "    private int privateField;\n",
    "}\n",
    "\n",
    "public class Subclasse extends ClasseBase {\n",
    "    // São herdados publicField e protectedField\n",
    "}\n"
   ]
  },
  {
   "cell_type": "markdown",
   "metadata": {},
   "source": [
    "3 - Sem Palavra-chave (Package-Private):\n",
    "\n",
    "    - Se nenhuma palavra-chave de visibilidade (public, protected, private) é usada, a visibilidade padrão é chamada de \"package-private\".\n",
    "    - Membros package-private e protected da classe base são herdados como protected na classe derivada.\n",
    "    - Membros public da classe base são herdados como public.\n",
    "    - Membros private da classe base não são herdados.\n",
    "\n",
    "Exemplo:"
   ]
  },
  {
   "cell_type": "code",
   "execution_count": null,
   "metadata": {
    "vscode": {
     "languageId": "java"
    }
   },
   "outputs": [],
   "source": [
    "public class ClasseBase {\n",
    "    int packagePrivateField;\n",
    "    protected int protectedField;\n",
    "    private int privateField;\n",
    "}\n",
    "\n",
    "public class Subclasse extends ClasseBase {\n",
    "    // São herdados packagePrivateField e protectedField\n",
    "}"
   ]
  },
  {
   "cell_type": "markdown",
   "metadata": {},
   "source": [
    "4 - private (Privada):\n",
    "\n",
    "    - Membros private da classe base não são herdados pela classe derivada.\n",
    "    -A visibilidade private significa que o membro é acessível apenas dentro da própria classe.\n",
    "\n",
    "Exemplo:"
   ]
  },
  {
   "cell_type": "code",
   "execution_count": null,
   "metadata": {
    "vscode": {
     "languageId": "java"
    }
   },
   "outputs": [],
   "source": [
    "public class ClasseBase {\n",
    "    private int privateField;\n",
    "}\n",
    "\n",
    "public class Subclasse extends ClasseBase {\n",
    "    // Não herda privateField\n",
    "}"
   ]
  },
  {
   "cell_type": "code",
   "execution_count": null,
   "metadata": {
    "vscode": {
     "languageId": "java"
    }
   },
   "outputs": [],
   "source": [
    "// Classe que tenta acessar a classe privada em Java (resultará em erro de compilação)\n",
    "public class UsaClasseJavaPrivate {\n",
    "    public static void main(String[] args) {\n",
    "        ClasseJavaPrivate obj = new ClasseJavaPrivate();\n",
    "        // A linha abaixo gerará um erro de compilação, pois privateField e privateMethod são privados\n",
    "        // obj.privateField = 42;\n",
    "        // obj.privateMethod();\n",
    "    }\n",
    "}"
   ]
  },
  {
   "cell_type": "markdown",
   "metadata": {},
   "source": [
    "Já em C++, como vimos anteriormente, o que muda é que definimos o tipo da sub-classe no momento de sua implementação e antes de definir os membros. Vale ressaltar que em C++, o acesso padrão é private para classes definidas com a palavra-chave class, enquanto em Java, é package-private (sem palavra-chave específica) por padrão. \n",
    "\n",
    "Exemplos:"
   ]
  },
  {
   "cell_type": "code",
   "execution_count": null,
   "metadata": {},
   "outputs": [],
   "source": [
    "// Classe com visibilidade public em C++\n",
    "class ClasseCppPublic {\n",
    "public:\n",
    "    int publicField;\n",
    "\n",
    "    void publicMethod() {\n",
    "        cout << \"Método público em C++\" << endl;\n",
    "    }\n",
    "};\n"
   ]
  },
  {
   "cell_type": "code",
   "execution_count": null,
   "metadata": {},
   "outputs": [],
   "source": [
    "// Classe que utiliza a classe pública em C++\n",
    "int main() {\n",
    "    ClasseCppPublic obj;\n",
    "    obj.publicField = 42;\n",
    "    obj.publicMethod();\n",
    "    return 0;\n",
    "}\n"
   ]
  },
  {
   "cell_type": "code",
   "execution_count": null,
   "metadata": {},
   "outputs": [],
   "source": [
    "// Classe com visibilidade private em C++\n",
    "class ClasseCppPrivate {\n",
    "private:\n",
    "    int privateField;\n",
    "\n",
    "    void privateMethod() {\n",
    "        cout << \"Método privado em C++\" << endl;\n",
    "    }\n",
    "};\n"
   ]
  },
  {
   "cell_type": "code",
   "execution_count": null,
   "metadata": {},
   "outputs": [],
   "source": [
    "// Classe que tenta acessar a classe privada em C++ (resultará em erro de compilação)\n",
    "int main() {\n",
    "    ClasseCppPrivate obj;\n",
    "    // As linhas abaixo gerarão erros de compilação, pois privateField e privateMethod são privados\n",
    "    // obj.privateField = 42;\n",
    "    // obj.privateMethod();\n",
    "    return 0;\n",
    "}\n"
   ]
  },
  {
   "cell_type": "markdown",
   "metadata": {},
   "source": [
    "##### Exercício 4: Quando declaramos uma variável em Java, temos, na verdade, um ponteiro. Em C++ é diferente. Discorra sobre esse aspecto."
   ]
  },
  {
   "cell_type": "markdown",
   "metadata": {},
   "source": [
    "Resposta: Para entender esse aspecto, vamos primeiramente lembrarmos dos objetivos de cada linguagem. Em Java, o objetivo principal é sua portabilidade. Já em C++ o principal objetivo é sua extrema eficiência e otimização. Porém, a afirmação não é correta. Em Java, a semântica de variáveis é diferente daquela em C++. Em Java, quando você declara uma variável de um tipo primitivo (como int, double, char, etc.), você está alocando espaço na memória para armazenar o valor diretamente. Java não utiliza ponteiros de forma explícita para tipos primitivos.\n",
    "\n",
    "Exemplo:"
   ]
  },
  {
   "cell_type": "code",
   "execution_count": null,
   "metadata": {
    "vscode": {
     "languageId": "java"
    }
   },
   "outputs": [],
   "source": [
    "int numero = 42;"
   ]
  },
  {
   "cell_type": "markdown",
   "metadata": {},
   "source": [
    "Neste caso, 'numero' é uma variável que armazena diretamente o valor 42 na memória.\n",
    "\n",
    "Porém, quando você lida com objetos em Java, as variáveis contêm referências para os objetos, não os objetos em si. A alocação de memória para objetos é feita no heap, e a variável contém um endereço de referência para esse objeto.\n",
    "\n",
    "Exemplo com objeto:"
   ]
  },
  {
   "cell_type": "code",
   "execution_count": null,
   "metadata": {
    "vscode": {
     "languageId": "java"
    }
   },
   "outputs": [],
   "source": [
    "String texto = new String(\"Exemplo\");"
   ]
  },
  {
   "cell_type": "markdown",
   "metadata": {},
   "source": [
    "Aqui, 'texto' contém uma referência ao objeto String alocado no heap.\n",
    "\n",
    "\n",
    "Já em C++, a situação é diferente. Quando você declara uma variável de um tipo primitivo, como int ou double, a variável armazena diretamente o valor na memória, assim como em Java. Quando você trabalha com objetos em C++ usando ponteiros, a situação é mais semelhante ao que acontece em Java. Você aloca dinamicamente memória para o objeto no heap e a variável armazena o endereço de memória do objeto.\n",
    "\n",
    "Exemplo com ponteiro para objeto:"
   ]
  },
  {
   "cell_type": "code",
   "execution_count": null,
   "metadata": {
    "vscode": {
     "languageId": "java"
    }
   },
   "outputs": [],
   "source": [
    "#include <iostream>\n",
    "using namespace std;\n",
    "\n",
    "class Exemplo {\n",
    "public:\n",
    "    int valor;\n",
    "    Exemplo(int v) : valor(v) {}\n",
    "};\n",
    "\n",
    "int main() {\n",
    "    Exemplo* objeto = new Exemplo(42);\n",
    "    cout << objeto->valor << endl;\n",
    "    delete objeto; // Libera a memória alocada dinamicamente\n",
    "    return 0;\n",
    "}\n"
   ]
  },
  {
   "cell_type": "markdown",
   "metadata": {},
   "source": [
    "Neste exemplo, objeto é um ponteiro que contém o endereço de memória do objeto alocado dinamicamente.\n"
   ]
  }
 ],
 "metadata": {
  "language_info": {
   "name": "python"
  }
 },
 "nbformat": 4,
 "nbformat_minor": 2
}
